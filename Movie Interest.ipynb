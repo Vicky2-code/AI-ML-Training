{
 "cells": [
  {
   "cell_type": "code",
   "execution_count": 2,
   "id": "150333b9-e6e4-4dbb-90d0-4193fd780708",
   "metadata": {},
   "outputs": [],
   "source": [
    "import pandas as pd\n",
    "movie_info = pd.read_csv(\"C:/Users/sugav/OneDrive/Documents/All Internships/AI _ML_Training/Day 7/Movie Interests.csv\")"
   ]
  },
  {
   "cell_type": "code",
   "execution_count": 3,
   "id": "ff91a8c0-9ec0-44d1-b741-749588f1df0a",
   "metadata": {},
   "outputs": [
    {
     "data": {
      "text/html": [
       "<div>\n",
       "<style scoped>\n",
       "    .dataframe tbody tr th:only-of-type {\n",
       "        vertical-align: middle;\n",
       "    }\n",
       "\n",
       "    .dataframe tbody tr th {\n",
       "        vertical-align: top;\n",
       "    }\n",
       "\n",
       "    .dataframe thead th {\n",
       "        text-align: right;\n",
       "    }\n",
       "</style>\n",
       "<table border=\"1\" class=\"dataframe\">\n",
       "  <thead>\n",
       "    <tr style=\"text-align: right;\">\n",
       "      <th></th>\n",
       "      <th>Age</th>\n",
       "      <th>Gender</th>\n",
       "      <th>Interest</th>\n",
       "    </tr>\n",
       "  </thead>\n",
       "  <tbody>\n",
       "    <tr>\n",
       "      <th>0</th>\n",
       "      <td>8</td>\n",
       "      <td>1</td>\n",
       "      <td>Animation</td>\n",
       "    </tr>\n",
       "    <tr>\n",
       "      <th>1</th>\n",
       "      <td>11</td>\n",
       "      <td>1</td>\n",
       "      <td>Animation</td>\n",
       "    </tr>\n",
       "    <tr>\n",
       "      <th>2</th>\n",
       "      <td>12</td>\n",
       "      <td>1</td>\n",
       "      <td>Animation</td>\n",
       "    </tr>\n",
       "    <tr>\n",
       "      <th>3</th>\n",
       "      <td>16</td>\n",
       "      <td>1</td>\n",
       "      <td>Action</td>\n",
       "    </tr>\n",
       "    <tr>\n",
       "      <th>4</th>\n",
       "      <td>18</td>\n",
       "      <td>1</td>\n",
       "      <td>Action</td>\n",
       "    </tr>\n",
       "    <tr>\n",
       "      <th>5</th>\n",
       "      <td>19</td>\n",
       "      <td>1</td>\n",
       "      <td>Action</td>\n",
       "    </tr>\n",
       "    <tr>\n",
       "      <th>6</th>\n",
       "      <td>23</td>\n",
       "      <td>1</td>\n",
       "      <td>Drama</td>\n",
       "    </tr>\n",
       "    <tr>\n",
       "      <th>7</th>\n",
       "      <td>26</td>\n",
       "      <td>1</td>\n",
       "      <td>Drama</td>\n",
       "    </tr>\n",
       "    <tr>\n",
       "      <th>8</th>\n",
       "      <td>27</td>\n",
       "      <td>1</td>\n",
       "      <td>Drama</td>\n",
       "    </tr>\n",
       "    <tr>\n",
       "      <th>9</th>\n",
       "      <td>7</td>\n",
       "      <td>0</td>\n",
       "      <td>Animation</td>\n",
       "    </tr>\n",
       "    <tr>\n",
       "      <th>10</th>\n",
       "      <td>9</td>\n",
       "      <td>0</td>\n",
       "      <td>Animation</td>\n",
       "    </tr>\n",
       "    <tr>\n",
       "      <th>11</th>\n",
       "      <td>10</td>\n",
       "      <td>0</td>\n",
       "      <td>Animation</td>\n",
       "    </tr>\n",
       "    <tr>\n",
       "      <th>12</th>\n",
       "      <td>26</td>\n",
       "      <td>0</td>\n",
       "      <td>Action</td>\n",
       "    </tr>\n",
       "    <tr>\n",
       "      <th>13</th>\n",
       "      <td>27</td>\n",
       "      <td>0</td>\n",
       "      <td>Action</td>\n",
       "    </tr>\n",
       "    <tr>\n",
       "      <th>14</th>\n",
       "      <td>30</td>\n",
       "      <td>0</td>\n",
       "      <td>Action</td>\n",
       "    </tr>\n",
       "    <tr>\n",
       "      <th>15</th>\n",
       "      <td>31</td>\n",
       "      <td>0</td>\n",
       "      <td>Drama</td>\n",
       "    </tr>\n",
       "    <tr>\n",
       "      <th>16</th>\n",
       "      <td>34</td>\n",
       "      <td>0</td>\n",
       "      <td>Drama</td>\n",
       "    </tr>\n",
       "    <tr>\n",
       "      <th>17</th>\n",
       "      <td>35</td>\n",
       "      <td>0</td>\n",
       "      <td>Drama</td>\n",
       "    </tr>\n",
       "  </tbody>\n",
       "</table>\n",
       "</div>"
      ],
      "text/plain": [
       "    Age  Gender   Interest\n",
       "0     8       1  Animation\n",
       "1    11       1  Animation\n",
       "2    12       1  Animation\n",
       "3    16       1     Action\n",
       "4    18       1     Action\n",
       "5    19       1     Action\n",
       "6    23       1      Drama\n",
       "7    26       1      Drama\n",
       "8    27       1      Drama\n",
       "9     7       0  Animation\n",
       "10    9       0  Animation\n",
       "11   10       0  Animation\n",
       "12   26       0     Action\n",
       "13   27       0     Action\n",
       "14   30       0     Action\n",
       "15   31       0      Drama\n",
       "16   34       0      Drama\n",
       "17   35       0      Drama"
      ]
     },
     "execution_count": 3,
     "metadata": {},
     "output_type": "execute_result"
    }
   ],
   "source": [
    "movie_info"
   ]
  },
  {
   "cell_type": "code",
   "execution_count": 4,
   "id": "f25aaae4-e41a-411e-9cd6-b7aa8a8c840b",
   "metadata": {},
   "outputs": [],
   "source": [
    "input_dataset = movie_info.drop(columns=['Interest'])"
   ]
  },
  {
   "cell_type": "code",
   "execution_count": 9,
   "id": "3406ad8b-3bde-4773-a2ae-d02e70f17df9",
   "metadata": {},
   "outputs": [],
   "source": [
    "#input dataset\n",
    "output_dataset = movie_info['Interest']"
   ]
  },
  {
   "cell_type": "code",
   "execution_count": 10,
   "id": "849b3af8-f891-4507-9fea-50ecf2dce9f0",
   "metadata": {},
   "outputs": [
    {
     "data": {
      "text/plain": [
       "0     Animation\n",
       "1     Animation\n",
       "2     Animation\n",
       "3        Action\n",
       "4        Action\n",
       "5        Action\n",
       "6         Drama\n",
       "7         Drama\n",
       "8         Drama\n",
       "9     Animation\n",
       "10    Animation\n",
       "11    Animation\n",
       "12       Action\n",
       "13       Action\n",
       "14       Action\n",
       "15        Drama\n",
       "16        Drama\n",
       "17        Drama\n",
       "Name: Interest, dtype: object"
      ]
     },
     "execution_count": 10,
     "metadata": {},
     "output_type": "execute_result"
    }
   ],
   "source": [
    "output_dataset"
   ]
  },
  {
   "cell_type": "code",
   "execution_count": 18,
   "id": "a0597a3a-c782-4523-8c27-9a72f9162425",
   "metadata": {},
   "outputs": [
    {
     "name": "stderr",
     "output_type": "stream",
     "text": [
      "c:\\users\\sugav\\appdata\\local\\programs\\python\\python39\\lib\\site-packages\\sklearn\\utils\\validation.py:2739: UserWarning: X does not have valid feature names, but DecisionTreeClassifier was fitted with feature names\n",
      "  warnings.warn(\n"
     ]
    }
   ],
   "source": [
    "from sklearn.tree import DecisionTreeClassifier\n",
    "movie_model = DecisionTreeClassifier()\n",
    "movie_model.fit(input_dataset,output_dataset)\n",
    "movie_interest=movie_model.predict([[27,1],[35,0]])"
   ]
  },
  {
   "cell_type": "code",
   "execution_count": 19,
   "id": "2ec78b4a-4fa5-4973-87a2-fcdc26aaa1e5",
   "metadata": {},
   "outputs": [
    {
     "data": {
      "text/plain": [
       "array(['Drama', 'Drama'], dtype=object)"
      ]
     },
     "execution_count": 19,
     "metadata": {},
     "output_type": "execute_result"
    }
   ],
   "source": [
    "movie_interest"
   ]
  },
  {
   "cell_type": "code",
   "execution_count": null,
   "id": "b14c1b75-d41f-4ae3-982f-4ce76b52268c",
   "metadata": {},
   "outputs": [],
   "source": []
  },
  {
   "cell_type": "code",
   "execution_count": null,
   "id": "4f1daa0d-c809-4704-80c8-fe32beac3c42",
   "metadata": {},
   "outputs": [],
   "source": []
  }
 ],
 "metadata": {
  "kernelspec": {
   "display_name": "Python 3 (ipykernel)",
   "language": "python",
   "name": "python3"
  },
  "language_info": {
   "codemirror_mode": {
    "name": "ipython",
    "version": 3
   },
   "file_extension": ".py",
   "mimetype": "text/x-python",
   "name": "python",
   "nbconvert_exporter": "python",
   "pygments_lexer": "ipython3",
   "version": "3.9.6"
  }
 },
 "nbformat": 4,
 "nbformat_minor": 5
}
